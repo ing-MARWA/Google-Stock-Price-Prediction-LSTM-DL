{
 "cells": [
  {
   "cell_type": "markdown",
   "metadata": {},
   "source": [
    "# Importing Libraries"
   ]
  },
  {
   "cell_type": "code",
   "execution_count": 1,
   "metadata": {},
   "outputs": [],
   "source": [
    "import numpy as np\n",
    "import pandas as pd\n",
    "import matplotlib.pyplot as plt"
   ]
  },
  {
   "cell_type": "markdown",
   "metadata": {},
   "source": [
    "# Reading Train Data"
   ]
  },
  {
   "cell_type": "code",
   "execution_count": 3,
   "metadata": {},
   "outputs": [],
   "source": [
    "Train_Data = pd.read_csv('trainset.csv')"
   ]
  },
  {
   "cell_type": "markdown",
   "metadata": {},
   "source": [
    "# Information From The Data"
   ]
  },
  {
   "cell_type": "code",
   "execution_count": 7,
   "metadata": {},
   "outputs": [
    {
     "data": {
      "text/html": [
       "<div>\n",
       "<style scoped>\n",
       "    .dataframe tbody tr th:only-of-type {\n",
       "        vertical-align: middle;\n",
       "    }\n",
       "\n",
       "    .dataframe tbody tr th {\n",
       "        vertical-align: top;\n",
       "    }\n",
       "\n",
       "    .dataframe thead th {\n",
       "        text-align: right;\n",
       "    }\n",
       "</style>\n",
       "<table border=\"1\" class=\"dataframe\">\n",
       "  <thead>\n",
       "    <tr style=\"text-align: right;\">\n",
       "      <th></th>\n",
       "      <th>Date</th>\n",
       "      <th>Open</th>\n",
       "      <th>High</th>\n",
       "      <th>Low</th>\n",
       "      <th>Close</th>\n",
       "      <th>Adj Close</th>\n",
       "      <th>Volume</th>\n",
       "    </tr>\n",
       "  </thead>\n",
       "  <tbody>\n",
       "    <tr>\n",
       "      <th>0</th>\n",
       "      <td>2013-01-02</td>\n",
       "      <td>357.385559</td>\n",
       "      <td>361.151062</td>\n",
       "      <td>355.959839</td>\n",
       "      <td>359.288177</td>\n",
       "      <td>359.288177</td>\n",
       "      <td>5115500</td>\n",
       "    </tr>\n",
       "    <tr>\n",
       "      <th>1</th>\n",
       "      <td>2013-01-03</td>\n",
       "      <td>360.122742</td>\n",
       "      <td>363.600128</td>\n",
       "      <td>358.031342</td>\n",
       "      <td>359.496826</td>\n",
       "      <td>359.496826</td>\n",
       "      <td>4666500</td>\n",
       "    </tr>\n",
       "    <tr>\n",
       "      <th>2</th>\n",
       "      <td>2013-01-04</td>\n",
       "      <td>362.313507</td>\n",
       "      <td>368.339294</td>\n",
       "      <td>361.488861</td>\n",
       "      <td>366.600616</td>\n",
       "      <td>366.600616</td>\n",
       "      <td>5562800</td>\n",
       "    </tr>\n",
       "    <tr>\n",
       "      <th>3</th>\n",
       "      <td>2013-01-07</td>\n",
       "      <td>365.348755</td>\n",
       "      <td>367.301056</td>\n",
       "      <td>362.929504</td>\n",
       "      <td>365.001007</td>\n",
       "      <td>365.001007</td>\n",
       "      <td>3332900</td>\n",
       "    </tr>\n",
       "    <tr>\n",
       "      <th>4</th>\n",
       "      <td>2013-01-08</td>\n",
       "      <td>365.393463</td>\n",
       "      <td>365.771027</td>\n",
       "      <td>359.874359</td>\n",
       "      <td>364.280701</td>\n",
       "      <td>364.280701</td>\n",
       "      <td>3373900</td>\n",
       "    </tr>\n",
       "    <tr>\n",
       "      <th>...</th>\n",
       "      <td>...</td>\n",
       "      <td>...</td>\n",
       "      <td>...</td>\n",
       "      <td>...</td>\n",
       "      <td>...</td>\n",
       "      <td>...</td>\n",
       "      <td>...</td>\n",
       "    </tr>\n",
       "    <tr>\n",
       "      <th>1254</th>\n",
       "      <td>2017-12-22</td>\n",
       "      <td>1061.109985</td>\n",
       "      <td>1064.199951</td>\n",
       "      <td>1059.439941</td>\n",
       "      <td>1060.119995</td>\n",
       "      <td>1060.119995</td>\n",
       "      <td>755100</td>\n",
       "    </tr>\n",
       "    <tr>\n",
       "      <th>1255</th>\n",
       "      <td>2017-12-26</td>\n",
       "      <td>1058.069946</td>\n",
       "      <td>1060.119995</td>\n",
       "      <td>1050.199951</td>\n",
       "      <td>1056.739990</td>\n",
       "      <td>1056.739990</td>\n",
       "      <td>760600</td>\n",
       "    </tr>\n",
       "    <tr>\n",
       "      <th>1256</th>\n",
       "      <td>2017-12-27</td>\n",
       "      <td>1057.390015</td>\n",
       "      <td>1058.369995</td>\n",
       "      <td>1048.050049</td>\n",
       "      <td>1049.369995</td>\n",
       "      <td>1049.369995</td>\n",
       "      <td>1271900</td>\n",
       "    </tr>\n",
       "    <tr>\n",
       "      <th>1257</th>\n",
       "      <td>2017-12-28</td>\n",
       "      <td>1051.599976</td>\n",
       "      <td>1054.750000</td>\n",
       "      <td>1044.770020</td>\n",
       "      <td>1048.140015</td>\n",
       "      <td>1048.140015</td>\n",
       "      <td>837100</td>\n",
       "    </tr>\n",
       "    <tr>\n",
       "      <th>1258</th>\n",
       "      <td>2017-12-29</td>\n",
       "      <td>1046.719971</td>\n",
       "      <td>1049.699951</td>\n",
       "      <td>1044.900024</td>\n",
       "      <td>1046.400024</td>\n",
       "      <td>1046.400024</td>\n",
       "      <td>887500</td>\n",
       "    </tr>\n",
       "  </tbody>\n",
       "</table>\n",
       "<p>1259 rows × 7 columns</p>\n",
       "</div>"
      ],
      "text/plain": [
       "            Date         Open         High          Low        Close   \n",
       "0     2013-01-02   357.385559   361.151062   355.959839   359.288177  \\\n",
       "1     2013-01-03   360.122742   363.600128   358.031342   359.496826   \n",
       "2     2013-01-04   362.313507   368.339294   361.488861   366.600616   \n",
       "3     2013-01-07   365.348755   367.301056   362.929504   365.001007   \n",
       "4     2013-01-08   365.393463   365.771027   359.874359   364.280701   \n",
       "...          ...          ...          ...          ...          ...   \n",
       "1254  2017-12-22  1061.109985  1064.199951  1059.439941  1060.119995   \n",
       "1255  2017-12-26  1058.069946  1060.119995  1050.199951  1056.739990   \n",
       "1256  2017-12-27  1057.390015  1058.369995  1048.050049  1049.369995   \n",
       "1257  2017-12-28  1051.599976  1054.750000  1044.770020  1048.140015   \n",
       "1258  2017-12-29  1046.719971  1049.699951  1044.900024  1046.400024   \n",
       "\n",
       "        Adj Close   Volume  \n",
       "0      359.288177  5115500  \n",
       "1      359.496826  4666500  \n",
       "2      366.600616  5562800  \n",
       "3      365.001007  3332900  \n",
       "4      364.280701  3373900  \n",
       "...           ...      ...  \n",
       "1254  1060.119995   755100  \n",
       "1255  1056.739990   760600  \n",
       "1256  1049.369995  1271900  \n",
       "1257  1048.140015   837100  \n",
       "1258  1046.400024   887500  \n",
       "\n",
       "[1259 rows x 7 columns]"
      ]
     },
     "execution_count": 7,
     "metadata": {},
     "output_type": "execute_result"
    }
   ],
   "source": [
    "Train_Data"
   ]
  },
  {
   "cell_type": "code",
   "execution_count": 8,
   "metadata": {},
   "outputs": [
    {
     "name": "stdout",
     "output_type": "stream",
     "text": [
      "<class 'pandas.core.frame.DataFrame'>\n",
      "RangeIndex: 1259 entries, 0 to 1258\n",
      "Data columns (total 7 columns):\n",
      " #   Column     Non-Null Count  Dtype  \n",
      "---  ------     --------------  -----  \n",
      " 0   Date       1259 non-null   object \n",
      " 1   Open       1259 non-null   float64\n",
      " 2   High       1259 non-null   float64\n",
      " 3   Low        1259 non-null   float64\n",
      " 4   Close      1259 non-null   float64\n",
      " 5   Adj Close  1259 non-null   float64\n",
      " 6   Volume     1259 non-null   int64  \n",
      "dtypes: float64(5), int64(1), object(1)\n",
      "memory usage: 69.0+ KB\n"
     ]
    }
   ],
   "source": [
    "# Ensuring that there is not non-null values\n",
    "Train_Data.info()"
   ]
  },
  {
   "cell_type": "code",
   "execution_count": 9,
   "metadata": {},
   "outputs": [
    {
     "data": {
      "text/plain": [
       "Date         0\n",
       "Open         0\n",
       "High         0\n",
       "Low          0\n",
       "Close        0\n",
       "Adj Close    0\n",
       "Volume       0\n",
       "dtype: int64"
      ]
     },
     "execution_count": 9,
     "metadata": {},
     "output_type": "execute_result"
    }
   ],
   "source": [
    "# Check if there is any missing values\n",
    "Train_Data.isna().sum()"
   ]
  },
  {
   "cell_type": "code",
   "execution_count": 11,
   "metadata": {},
   "outputs": [],
   "source": [
    "# Checking of any duplicated values\n",
    "dup_vals = Train_Data.duplicated()"
   ]
  },
  {
   "cell_type": "code",
   "execution_count": 12,
   "metadata": {},
   "outputs": [
    {
     "data": {
      "text/plain": [
       "0       False\n",
       "1       False\n",
       "2       False\n",
       "3       False\n",
       "4       False\n",
       "        ...  \n",
       "1254    False\n",
       "1255    False\n",
       "1256    False\n",
       "1257    False\n",
       "1258    False\n",
       "Length: 1259, dtype: bool"
      ]
     },
     "execution_count": 12,
     "metadata": {},
     "output_type": "execute_result"
    }
   ],
   "source": [
    "dup_vals"
   ]
  },
  {
   "cell_type": "code",
   "execution_count": 13,
   "metadata": {},
   "outputs": [
    {
     "name": "stdout",
     "output_type": "stream",
     "text": [
      "Staring date : 2013-01-02\n",
      "Ending date : 2017-12-29\n"
     ]
    }
   ],
   "source": [
    "# Print the starting Date and end date of the data\n",
    "Start_Date = Train_Data.iloc[0][0]\n",
    "End_Date = Train_Data.iloc[-1][0]\n",
    "\n",
    "print(f\"Staring date : {Start_Date}\")\n",
    "print(f\"Ending date : {End_Date}\")"
   ]
  },
  {
   "cell_type": "markdown",
   "metadata": {},
   "source": [
    "# Feature Scaling"
   ]
  },
  {
   "cell_type": "code",
   "execution_count": 14,
   "metadata": {},
   "outputs": [
    {
     "data": {
      "text/plain": [
       "array([[ 357.385559],\n",
       "       [ 360.122742],\n",
       "       [ 362.313507],\n",
       "       ...,\n",
       "       [1057.390015],\n",
       "       [1051.599976],\n",
       "       [1046.719971]])"
      ]
     },
     "execution_count": 14,
     "metadata": {},
     "output_type": "execute_result"
    }
   ],
   "source": [
    "# Select all rows and the first two columns values\n",
    "Loc_Vals = Train_Data.iloc[:,1:2].values\n",
    "Loc_Vals"
   ]
  },
  {
   "cell_type": "code",
   "execution_count": 16,
   "metadata": {},
   "outputs": [
    {
     "data": {
      "text/plain": [
       "array([[0.01011148],\n",
       "       [0.01388614],\n",
       "       [0.01690727],\n",
       "       ...,\n",
       "       [0.97543954],\n",
       "       [0.9674549 ],\n",
       "       [0.96072522]])"
      ]
     },
     "execution_count": 16,
     "metadata": {},
     "output_type": "execute_result"
    }
   ],
   "source": [
    "# import MinMaxScaler from scikit-learn\n",
    "from sklearn.preprocessing import MinMaxScaler\n",
    "Scalar = MinMaxScaler(feature_range = (0,1))\n",
    "training_scaled_Data = Scalar.fit_transform(Loc_Vals)\n",
    "training_scaled_Data"
   ]
  },
  {
   "cell_type": "code",
   "execution_count": 19,
   "metadata": {},
   "outputs": [
    {
     "data": {
      "text/plain": [
       "(1199, 60)"
      ]
     },
     "execution_count": 19,
     "metadata": {},
     "output_type": "execute_result"
    }
   ],
   "source": [
    "x_train = []\n",
    "y_train = []\n",
    "\n",
    "for i in range(60,1259):\n",
    "    x_train.append(training_scaled_Data[i-60:i, 0])                    \n",
    "    y_train.append(training_scaled_Data[i,0])\n",
    "x_train,y_train = np.array(x_train),np.array(y_train)\n",
    "x_train.shape"
   ]
  },
  {
   "cell_type": "code",
   "execution_count": 20,
   "metadata": {},
   "outputs": [],
   "source": [
    "# Reshaping x_train array to have a specific shape required input to be fed to RNN model\n",
    "x_train = np.reshape(x_train, (x_train.shape[0],x_train.shape[1],1))         "
   ]
  },
  {
   "cell_type": "markdown",
   "metadata": {},
   "source": [
    "# Importing Necessary Libraries For RNN"
   ]
  },
  {
   "cell_type": "code",
   "execution_count": 21,
   "metadata": {},
   "outputs": [],
   "source": [
    "from keras.models import Sequential\n",
    "from keras.layers import Dense\n",
    "from keras.layers import LSTM\n",
    "from keras.layers import Dropout"
   ]
  },
  {
   "cell_type": "markdown",
   "metadata": {},
   "source": [
    "# Analysing With LSTM"
   ]
  },
  {
   "cell_type": "code",
   "execution_count": 22,
   "metadata": {},
   "outputs": [],
   "source": [
    "# Using Sequntial model from keras and adding an LSTM layer to it\n",
    "# The first LSTM layer\n",
    "regressor = Sequential()\n",
    "regressor.add(LSTM(units = 50,return_sequences = True,input_shape = (x_train.shape[1],1)))"
   ]
  },
  {
   "cell_type": "code",
   "execution_count": 23,
   "metadata": {},
   "outputs": [],
   "source": [
    "# We used Dropout to prevent overfitting\n",
    "regressor.add(Dropout(0.2))"
   ]
  },
  {
   "cell_type": "code",
   "execution_count": 24,
   "metadata": {},
   "outputs": [],
   "source": [
    "# Adding the second LSTM layer\n",
    "regressor.add(LSTM(units = 50,return_sequences = True))\n",
    "regressor.add(Dropout(0.2))"
   ]
  },
  {
   "cell_type": "code",
   "execution_count": 25,
   "metadata": {},
   "outputs": [],
   "source": [
    "# Adding the third LSTM layer\n",
    "regressor.add(LSTM(units = 50,return_sequences = True))\n",
    "regressor.add(Dropout(0.2))"
   ]
  },
  {
   "cell_type": "code",
   "execution_count": 26,
   "metadata": {},
   "outputs": [],
   "source": [
    "# Adding the fourth LSTM layer\n",
    "regressor.add(LSTM(units = 50))\n",
    "regressor.add(Dropout(0.2))"
   ]
  },
  {
   "cell_type": "code",
   "execution_count": 27,
   "metadata": {},
   "outputs": [],
   "source": [
    "# Adding Dense layer to the existing sequntial model with 1 unit\n",
    "regressor.add(Dense(units = 1))"
   ]
  },
  {
   "cell_type": "code",
   "execution_count": 28,
   "metadata": {},
   "outputs": [],
   "source": [
    "# Compiling the model with approptiate loss function and optimizer\n",
    "regressor.compile(optimizer = 'adam',loss = 'mean_squared_error')"
   ]
  },
  {
   "cell_type": "code",
   "execution_count": 53,
   "metadata": {},
   "outputs": [
    {
     "name": "stdout",
     "output_type": "stream",
     "text": [
      "Epoch 1/100\n",
      "38/38 [==============================] - 3s 89ms/step - loss: 0.0017\n",
      "Epoch 2/100\n",
      "38/38 [==============================] - 3s 88ms/step - loss: 0.0016\n",
      "Epoch 3/100\n",
      "38/38 [==============================] - 4s 95ms/step - loss: 0.0017\n",
      "Epoch 4/100\n",
      "38/38 [==============================] - 4s 96ms/step - loss: 0.0015\n",
      "Epoch 5/100\n",
      "38/38 [==============================] - 3s 79ms/step - loss: 0.0018\n",
      "Epoch 6/100\n",
      "38/38 [==============================] - 4s 109ms/step - loss: 0.0020\n",
      "Epoch 7/100\n",
      "38/38 [==============================] - 5s 122ms/step - loss: 0.0016\n",
      "Epoch 8/100\n",
      "38/38 [==============================] - 4s 118ms/step - loss: 0.0015\n",
      "Epoch 9/100\n",
      "38/38 [==============================] - 4s 113ms/step - loss: 0.0016\n",
      "Epoch 10/100\n",
      "38/38 [==============================] - 4s 113ms/step - loss: 0.0015\n",
      "Epoch 11/100\n",
      "38/38 [==============================] - 4s 114ms/step - loss: 0.0015\n",
      "Epoch 12/100\n",
      "38/38 [==============================] - 4s 114ms/step - loss: 0.0016\n",
      "Epoch 13/100\n",
      "38/38 [==============================] - 4s 114ms/step - loss: 0.0014\n",
      "Epoch 14/100\n",
      "38/38 [==============================] - 4s 112ms/step - loss: 0.0014\n",
      "Epoch 15/100\n",
      "38/38 [==============================] - 4s 112ms/step - loss: 0.0015\n",
      "Epoch 16/100\n",
      "38/38 [==============================] - 4s 117ms/step - loss: 0.0015\n",
      "Epoch 17/100\n",
      "38/38 [==============================] - 4s 114ms/step - loss: 0.0015\n",
      "Epoch 18/100\n",
      "38/38 [==============================] - 4s 117ms/step - loss: 0.0013\n",
      "Epoch 19/100\n",
      "38/38 [==============================] - 4s 113ms/step - loss: 0.0016\n",
      "Epoch 20/100\n",
      "38/38 [==============================] - 4s 115ms/step - loss: 0.0013\n",
      "Epoch 21/100\n",
      "38/38 [==============================] - 4s 113ms/step - loss: 0.0015\n",
      "Epoch 22/100\n",
      "38/38 [==============================] - 4s 111ms/step - loss: 0.0013\n",
      "Epoch 23/100\n",
      "38/38 [==============================] - 4s 111ms/step - loss: 0.0011\n",
      "Epoch 24/100\n",
      "38/38 [==============================] - 4s 114ms/step - loss: 0.0012\n",
      "Epoch 25/100\n",
      "38/38 [==============================] - 4s 117ms/step - loss: 0.0013\n",
      "Epoch 26/100\n",
      "38/38 [==============================] - 4s 110ms/step - loss: 0.0015\n",
      "Epoch 27/100\n",
      "38/38 [==============================] - 4s 112ms/step - loss: 0.0012\n",
      "Epoch 28/100\n",
      "38/38 [==============================] - 4s 113ms/step - loss: 0.0013\n",
      "Epoch 29/100\n",
      "38/38 [==============================] - 4s 110ms/step - loss: 0.0012\n",
      "Epoch 30/100\n",
      "38/38 [==============================] - 4s 117ms/step - loss: 0.0013\n",
      "Epoch 31/100\n",
      "38/38 [==============================] - 4s 115ms/step - loss: 0.0011\n",
      "Epoch 32/100\n",
      "38/38 [==============================] - 4s 118ms/step - loss: 0.0013\n",
      "Epoch 33/100\n",
      "38/38 [==============================] - 4s 114ms/step - loss: 0.0012\n",
      "Epoch 34/100\n",
      "38/38 [==============================] - 4s 113ms/step - loss: 0.0011\n",
      "Epoch 35/100\n",
      "38/38 [==============================] - 4s 113ms/step - loss: 0.0014\n",
      "Epoch 36/100\n",
      "38/38 [==============================] - 4s 110ms/step - loss: 0.0011\n",
      "Epoch 37/100\n",
      "38/38 [==============================] - 4s 114ms/step - loss: 0.0011\n",
      "Epoch 38/100\n",
      "38/38 [==============================] - 4s 110ms/step - loss: 0.0011\n",
      "Epoch 39/100\n",
      "38/38 [==============================] - 4s 114ms/step - loss: 0.0012\n",
      "Epoch 40/100\n",
      "38/38 [==============================] - 4s 112ms/step - loss: 0.0011\n",
      "Epoch 41/100\n",
      "38/38 [==============================] - 4s 114ms/step - loss: 0.0010\n",
      "Epoch 42/100\n",
      "38/38 [==============================] - 4s 113ms/step - loss: 0.0011\n",
      "Epoch 43/100\n",
      "38/38 [==============================] - 4s 115ms/step - loss: 9.7145e-04\n",
      "Epoch 44/100\n",
      "38/38 [==============================] - 4s 111ms/step - loss: 0.0011\n",
      "Epoch 45/100\n",
      "38/38 [==============================] - 4s 113ms/step - loss: 0.0011\n",
      "Epoch 46/100\n",
      "38/38 [==============================] - 4s 118ms/step - loss: 0.0011\n",
      "Epoch 47/100\n",
      "38/38 [==============================] - 4s 115ms/step - loss: 0.0011\n",
      "Epoch 48/100\n",
      "38/38 [==============================] - 4s 115ms/step - loss: 9.9972e-04\n",
      "Epoch 49/100\n",
      "38/38 [==============================] - 4s 114ms/step - loss: 9.8151e-04\n",
      "Epoch 50/100\n",
      "38/38 [==============================] - 4s 113ms/step - loss: 8.7104e-04\n",
      "Epoch 51/100\n",
      "38/38 [==============================] - 4s 111ms/step - loss: 0.0010\n",
      "Epoch 52/100\n",
      "38/38 [==============================] - 4s 109ms/step - loss: 0.0012\n",
      "Epoch 53/100\n",
      "38/38 [==============================] - 4s 111ms/step - loss: 0.0011\n",
      "Epoch 54/100\n",
      "38/38 [==============================] - 4s 118ms/step - loss: 9.5403e-04\n",
      "Epoch 55/100\n",
      "38/38 [==============================] - 4s 115ms/step - loss: 0.0011\n",
      "Epoch 56/100\n",
      "38/38 [==============================] - 4s 114ms/step - loss: 9.8388e-04\n",
      "Epoch 57/100\n",
      "38/38 [==============================] - 4s 118ms/step - loss: 9.6530e-04\n",
      "Epoch 58/100\n",
      "38/38 [==============================] - 4s 113ms/step - loss: 8.5546e-04\n",
      "Epoch 59/100\n",
      "38/38 [==============================] - 4s 113ms/step - loss: 0.0010\n",
      "Epoch 60/100\n",
      "38/38 [==============================] - 4s 113ms/step - loss: 8.8172e-04\n",
      "Epoch 61/100\n",
      "38/38 [==============================] - 4s 115ms/step - loss: 9.1298e-04\n",
      "Epoch 62/100\n",
      "38/38 [==============================] - 4s 115ms/step - loss: 0.0010\n",
      "Epoch 63/100\n",
      "38/38 [==============================] - 4s 112ms/step - loss: 8.6612e-04\n",
      "Epoch 64/100\n",
      "38/38 [==============================] - 4s 113ms/step - loss: 9.1766e-04\n",
      "Epoch 65/100\n",
      "38/38 [==============================] - 4s 114ms/step - loss: 8.8701e-04\n",
      "Epoch 66/100\n",
      "38/38 [==============================] - 4s 111ms/step - loss: 9.6883e-04\n",
      "Epoch 67/100\n",
      "38/38 [==============================] - 4s 112ms/step - loss: 9.5466e-04\n",
      "Epoch 68/100\n",
      "38/38 [==============================] - 4s 114ms/step - loss: 9.5867e-04\n",
      "Epoch 69/100\n",
      "38/38 [==============================] - 4s 112ms/step - loss: 9.5355e-04\n",
      "Epoch 70/100\n",
      "38/38 [==============================] - 4s 111ms/step - loss: 9.4323e-04\n",
      "Epoch 71/100\n",
      "38/38 [==============================] - 4s 114ms/step - loss: 8.8889e-04\n",
      "Epoch 72/100\n",
      "38/38 [==============================] - 4s 113ms/step - loss: 9.4254e-04\n",
      "Epoch 73/100\n",
      "38/38 [==============================] - 4s 114ms/step - loss: 8.4315e-04\n",
      "Epoch 74/100\n",
      "38/38 [==============================] - 4s 111ms/step - loss: 8.2456e-04\n",
      "Epoch 75/100\n",
      "38/38 [==============================] - 4s 112ms/step - loss: 9.4040e-04\n",
      "Epoch 76/100\n",
      "38/38 [==============================] - 4s 114ms/step - loss: 8.3442e-04\n",
      "Epoch 77/100\n",
      "38/38 [==============================] - 4s 111ms/step - loss: 9.0561e-04\n",
      "Epoch 78/100\n",
      "38/38 [==============================] - 4s 112ms/step - loss: 8.9779e-04\n",
      "Epoch 79/100\n",
      "38/38 [==============================] - 4s 112ms/step - loss: 9.9182e-04\n",
      "Epoch 80/100\n",
      "38/38 [==============================] - 4s 109ms/step - loss: 8.9277e-04\n",
      "Epoch 81/100\n",
      "38/38 [==============================] - 4s 115ms/step - loss: 9.8481e-04\n",
      "Epoch 82/100\n",
      "38/38 [==============================] - 4s 111ms/step - loss: 7.2553e-04\n",
      "Epoch 83/100\n",
      "38/38 [==============================] - 4s 111ms/step - loss: 7.3034e-04\n",
      "Epoch 84/100\n",
      "38/38 [==============================] - 4s 118ms/step - loss: 8.7324e-04\n",
      "Epoch 85/100\n",
      "38/38 [==============================] - 4s 114ms/step - loss: 8.3609e-04\n",
      "Epoch 86/100\n",
      "38/38 [==============================] - 4s 112ms/step - loss: 8.3945e-04\n",
      "Epoch 87/100\n",
      "38/38 [==============================] - 4s 112ms/step - loss: 9.7867e-04\n",
      "Epoch 88/100\n",
      "38/38 [==============================] - 4s 116ms/step - loss: 8.4592e-04\n",
      "Epoch 89/100\n",
      "38/38 [==============================] - 4s 111ms/step - loss: 0.0010\n",
      "Epoch 90/100\n",
      "38/38 [==============================] - 4s 113ms/step - loss: 9.5884e-04\n",
      "Epoch 91/100\n",
      "38/38 [==============================] - 4s 113ms/step - loss: 7.3538e-04\n",
      "Epoch 92/100\n",
      "38/38 [==============================] - 4s 111ms/step - loss: 8.7147e-04\n",
      "Epoch 93/100\n",
      "38/38 [==============================] - 4s 113ms/step - loss: 8.1873e-04\n",
      "Epoch 94/100\n",
      "38/38 [==============================] - 4s 113ms/step - loss: 7.5840e-04\n",
      "Epoch 95/100\n",
      "38/38 [==============================] - 4s 118ms/step - loss: 8.5006e-04\n",
      "Epoch 96/100\n",
      "38/38 [==============================] - 4s 111ms/step - loss: 7.9128e-04\n",
      "Epoch 97/100\n",
      "38/38 [==============================] - 4s 110ms/step - loss: 8.1736e-04\n",
      "Epoch 98/100\n",
      "38/38 [==============================] - 4s 115ms/step - loss: 7.5460e-04\n",
      "Epoch 99/100\n",
      "38/38 [==============================] - 4s 108ms/step - loss: 7.4008e-04\n",
      "Epoch 100/100\n",
      "38/38 [==============================] - 4s 110ms/step - loss: 8.9710e-04\n"
     ]
    },
    {
     "data": {
      "text/plain": [
       "<keras.callbacks.History at 0x2733f33da80>"
      ]
     },
     "execution_count": 53,
     "metadata": {},
     "output_type": "execute_result"
    }
   ],
   "source": [
    "# Fitting the model to training data\n",
    "regressor.fit(x_train,y_train,epochs = 100, batch_size = 32)"
   ]
  },
  {
   "cell_type": "markdown",
   "metadata": {},
   "source": [
    "# Reading Test Data"
   ]
  },
  {
   "cell_type": "code",
   "execution_count": 30,
   "metadata": {},
   "outputs": [],
   "source": [
    "Test_Data = pd.read_csv('testset.csv')"
   ]
  },
  {
   "cell_type": "markdown",
   "metadata": {},
   "source": [
    "# Information From The Data"
   ]
  },
  {
   "cell_type": "code",
   "execution_count": 31,
   "metadata": {},
   "outputs": [
    {
     "data": {
      "text/html": [
       "<div>\n",
       "<style scoped>\n",
       "    .dataframe tbody tr th:only-of-type {\n",
       "        vertical-align: middle;\n",
       "    }\n",
       "\n",
       "    .dataframe tbody tr th {\n",
       "        vertical-align: top;\n",
       "    }\n",
       "\n",
       "    .dataframe thead th {\n",
       "        text-align: right;\n",
       "    }\n",
       "</style>\n",
       "<table border=\"1\" class=\"dataframe\">\n",
       "  <thead>\n",
       "    <tr style=\"text-align: right;\">\n",
       "      <th></th>\n",
       "      <th>Date</th>\n",
       "      <th>Open</th>\n",
       "      <th>High</th>\n",
       "      <th>Low</th>\n",
       "      <th>Close</th>\n",
       "      <th>Adj Close</th>\n",
       "      <th>Volume</th>\n",
       "    </tr>\n",
       "  </thead>\n",
       "  <tbody>\n",
       "    <tr>\n",
       "      <th>0</th>\n",
       "      <td>2018-01-02</td>\n",
       "      <td>1048.339966</td>\n",
       "      <td>1066.939941</td>\n",
       "      <td>1045.229980</td>\n",
       "      <td>1065.000000</td>\n",
       "      <td>1065.000000</td>\n",
       "      <td>1237600</td>\n",
       "    </tr>\n",
       "    <tr>\n",
       "      <th>1</th>\n",
       "      <td>2018-01-03</td>\n",
       "      <td>1064.310059</td>\n",
       "      <td>1086.290039</td>\n",
       "      <td>1063.209961</td>\n",
       "      <td>1082.479980</td>\n",
       "      <td>1082.479980</td>\n",
       "      <td>1430200</td>\n",
       "    </tr>\n",
       "    <tr>\n",
       "      <th>2</th>\n",
       "      <td>2018-01-04</td>\n",
       "      <td>1088.000000</td>\n",
       "      <td>1093.569946</td>\n",
       "      <td>1084.001953</td>\n",
       "      <td>1086.400024</td>\n",
       "      <td>1086.400024</td>\n",
       "      <td>1004600</td>\n",
       "    </tr>\n",
       "    <tr>\n",
       "      <th>3</th>\n",
       "      <td>2018-01-05</td>\n",
       "      <td>1094.000000</td>\n",
       "      <td>1104.250000</td>\n",
       "      <td>1092.000000</td>\n",
       "      <td>1102.229980</td>\n",
       "      <td>1102.229980</td>\n",
       "      <td>1279100</td>\n",
       "    </tr>\n",
       "    <tr>\n",
       "      <th>4</th>\n",
       "      <td>2018-01-08</td>\n",
       "      <td>1102.229980</td>\n",
       "      <td>1111.270020</td>\n",
       "      <td>1101.619995</td>\n",
       "      <td>1106.939941</td>\n",
       "      <td>1106.939941</td>\n",
       "      <td>1047600</td>\n",
       "    </tr>\n",
       "    <tr>\n",
       "      <th>...</th>\n",
       "      <td>...</td>\n",
       "      <td>...</td>\n",
       "      <td>...</td>\n",
       "      <td>...</td>\n",
       "      <td>...</td>\n",
       "      <td>...</td>\n",
       "      <td>...</td>\n",
       "    </tr>\n",
       "    <tr>\n",
       "      <th>120</th>\n",
       "      <td>2018-06-25</td>\n",
       "      <td>1143.599976</td>\n",
       "      <td>1143.910034</td>\n",
       "      <td>1112.780029</td>\n",
       "      <td>1124.810059</td>\n",
       "      <td>1124.810059</td>\n",
       "      <td>2157300</td>\n",
       "    </tr>\n",
       "    <tr>\n",
       "      <th>121</th>\n",
       "      <td>2018-06-26</td>\n",
       "      <td>1128.000000</td>\n",
       "      <td>1133.209961</td>\n",
       "      <td>1116.659058</td>\n",
       "      <td>1118.459961</td>\n",
       "      <td>1118.459961</td>\n",
       "      <td>1563200</td>\n",
       "    </tr>\n",
       "    <tr>\n",
       "      <th>122</th>\n",
       "      <td>2018-06-27</td>\n",
       "      <td>1121.339966</td>\n",
       "      <td>1131.836060</td>\n",
       "      <td>1103.619995</td>\n",
       "      <td>1103.979980</td>\n",
       "      <td>1103.979980</td>\n",
       "      <td>1293900</td>\n",
       "    </tr>\n",
       "    <tr>\n",
       "      <th>123</th>\n",
       "      <td>2018-06-28</td>\n",
       "      <td>1102.089966</td>\n",
       "      <td>1122.310059</td>\n",
       "      <td>1096.010010</td>\n",
       "      <td>1114.219971</td>\n",
       "      <td>1114.219971</td>\n",
       "      <td>1072400</td>\n",
       "    </tr>\n",
       "    <tr>\n",
       "      <th>124</th>\n",
       "      <td>2018-06-29</td>\n",
       "      <td>1120.000000</td>\n",
       "      <td>1128.227051</td>\n",
       "      <td>1115.000000</td>\n",
       "      <td>1115.650024</td>\n",
       "      <td>1115.650024</td>\n",
       "      <td>1315100</td>\n",
       "    </tr>\n",
       "  </tbody>\n",
       "</table>\n",
       "<p>125 rows × 7 columns</p>\n",
       "</div>"
      ],
      "text/plain": [
       "           Date         Open         High          Low        Close   \n",
       "0    2018-01-02  1048.339966  1066.939941  1045.229980  1065.000000  \\\n",
       "1    2018-01-03  1064.310059  1086.290039  1063.209961  1082.479980   \n",
       "2    2018-01-04  1088.000000  1093.569946  1084.001953  1086.400024   \n",
       "3    2018-01-05  1094.000000  1104.250000  1092.000000  1102.229980   \n",
       "4    2018-01-08  1102.229980  1111.270020  1101.619995  1106.939941   \n",
       "..          ...          ...          ...          ...          ...   \n",
       "120  2018-06-25  1143.599976  1143.910034  1112.780029  1124.810059   \n",
       "121  2018-06-26  1128.000000  1133.209961  1116.659058  1118.459961   \n",
       "122  2018-06-27  1121.339966  1131.836060  1103.619995  1103.979980   \n",
       "123  2018-06-28  1102.089966  1122.310059  1096.010010  1114.219971   \n",
       "124  2018-06-29  1120.000000  1128.227051  1115.000000  1115.650024   \n",
       "\n",
       "       Adj Close   Volume  \n",
       "0    1065.000000  1237600  \n",
       "1    1082.479980  1430200  \n",
       "2    1086.400024  1004600  \n",
       "3    1102.229980  1279100  \n",
       "4    1106.939941  1047600  \n",
       "..           ...      ...  \n",
       "120  1124.810059  2157300  \n",
       "121  1118.459961  1563200  \n",
       "122  1103.979980  1293900  \n",
       "123  1114.219971  1072400  \n",
       "124  1115.650024  1315100  \n",
       "\n",
       "[125 rows x 7 columns]"
      ]
     },
     "execution_count": 31,
     "metadata": {},
     "output_type": "execute_result"
    }
   ],
   "source": [
    "Test_Data"
   ]
  },
  {
   "cell_type": "code",
   "execution_count": 32,
   "metadata": {},
   "outputs": [
    {
     "name": "stdout",
     "output_type": "stream",
     "text": [
      "<class 'pandas.core.frame.DataFrame'>\n",
      "RangeIndex: 125 entries, 0 to 124\n",
      "Data columns (total 7 columns):\n",
      " #   Column     Non-Null Count  Dtype  \n",
      "---  ------     --------------  -----  \n",
      " 0   Date       125 non-null    object \n",
      " 1   Open       125 non-null    float64\n",
      " 2   High       125 non-null    float64\n",
      " 3   Low        125 non-null    float64\n",
      " 4   Close      125 non-null    float64\n",
      " 5   Adj Close  125 non-null    float64\n",
      " 6   Volume     125 non-null    int64  \n",
      "dtypes: float64(5), int64(1), object(1)\n",
      "memory usage: 7.0+ KB\n"
     ]
    }
   ],
   "source": [
    "# Ensuring that there is not non-null values\n",
    "Test_Data.info()"
   ]
  },
  {
   "cell_type": "markdown",
   "metadata": {},
   "source": [
    "# Analysing Test Data"
   ]
  },
  {
   "cell_type": "code",
   "execution_count": 33,
   "metadata": {},
   "outputs": [],
   "source": [
    "Stock_Price = Test_Data.iloc[:,1:2].values"
   ]
  },
  {
   "cell_type": "code",
   "execution_count": 34,
   "metadata": {},
   "outputs": [
    {
     "data": {
      "text/plain": [
       "0       357.385559\n",
       "1       360.122742\n",
       "2       362.313507\n",
       "3       365.348755\n",
       "4       365.393463\n",
       "          ...     \n",
       "120    1143.599976\n",
       "121    1128.000000\n",
       "122    1121.339966\n",
       "123    1102.089966\n",
       "124    1120.000000\n",
       "Name: Open, Length: 1384, dtype: float64"
      ]
     },
     "execution_count": 34,
     "metadata": {},
     "output_type": "execute_result"
    }
   ],
   "source": [
    "# Concatenate the 'open' column in Train_Data and Test_Data along axis = 0 to accurately make prediction and provide high accuracy\n",
    "Concat_Data = pd.concat((Train_Data['Open'],Test_Data['Open']), axis = 0)\n",
    "Concat_Data"
   ]
  },
  {
   "cell_type": "code",
   "execution_count": 41,
   "metadata": {},
   "outputs": [
    {
     "data": {
      "text/plain": [
       "array([ 955.48999 ,  966.700012,  980.      ,  980.      ,  973.719971,\n",
       "        987.450012,  992.      ,  992.099976,  990.289978,  991.77002 ,\n",
       "        986.      ,  989.440002,  989.52002 ,  970.      ,  968.369995,\n",
       "        980.      , 1009.190002, 1014.      , 1015.219971, 1017.210022,\n",
       "       1021.76001 , 1022.109985, 1028.98999 , 1027.27002 , 1030.52002 ,\n",
       "       1033.98999 , 1026.459961, 1023.419983, 1022.590027, 1019.210022,\n",
       "       1022.52002 , 1034.01001 , 1020.26001 , 1023.309998, 1035.      ,\n",
       "       1035.869995, 1040.      , 1055.089966, 1042.680054, 1022.369995,\n",
       "       1015.799988, 1012.659973,  995.940002, 1001.5     , 1020.429993,\n",
       "       1037.48999 , 1035.5     , 1039.630005, 1046.119995, 1045.      ,\n",
       "       1054.609985, 1066.079956, 1075.199951, 1071.780029, 1064.949951,\n",
       "       1061.109985, 1058.069946, 1057.390015, 1051.599976, 1046.719971,\n",
       "       1048.339966, 1064.310059, 1088.      , 1094.      , 1102.22998 ,\n",
       "       1109.400024, 1097.099976, 1106.300049, 1102.410034, 1132.51001 ,\n",
       "       1126.219971, 1131.410034, 1131.829956, 1137.48999 , 1159.849976,\n",
       "       1177.329956, 1172.530029, 1175.079956, 1176.47998 , 1167.829956,\n",
       "       1170.569946, 1162.609985, 1122.      , 1090.599976, 1027.180054,\n",
       "       1081.540039, 1055.410034, 1017.25    , 1048.      , 1045.      ,\n",
       "       1048.949951, 1079.069946, 1088.410034, 1090.569946, 1106.469971,\n",
       "       1116.189941, 1112.640015, 1127.800049, 1141.23999 , 1123.030029,\n",
       "       1107.869995, 1053.079956, 1075.140015, 1099.219971, 1089.189941,\n",
       "       1115.319946, 1136.      , 1163.849976, 1170.      , 1145.209961,\n",
       "       1149.959961, 1154.140015, 1120.01001 , 1099.      , 1092.73999 ,\n",
       "       1081.880005, 1047.030029, 1046.      , 1063.      ,  998.      ,\n",
       "       1011.630005, 1022.820007, 1013.909973,  993.409973, 1041.329956,\n",
       "       1020.      , 1016.799988, 1026.439941, 1027.98999 , 1025.040039,\n",
       "       1040.880005, 1037.      , 1051.369995, 1077.430054, 1069.400024,\n",
       "       1082.      , 1077.859985, 1052.      , 1025.52002 , 1029.51001 ,\n",
       "       1046.      , 1030.01001 , 1013.659973, 1028.099976, 1019.      ,\n",
       "       1016.900024, 1049.22998 , 1058.540039, 1058.099976, 1086.030029,\n",
       "       1093.599976, 1100.      , 1090.      , 1077.310059, 1079.890015,\n",
       "       1061.859985, 1074.060059, 1083.560059, 1065.130005, 1079.      ,\n",
       "       1079.02002 , 1064.890015, 1063.030029, 1067.560059, 1099.349976,\n",
       "       1122.329956, 1140.98999 , 1142.170044, 1131.319946, 1118.180054,\n",
       "       1118.599976, 1131.069946, 1141.119995, 1143.849976, 1148.859985,\n",
       "       1143.650024, 1158.5     , 1175.310059, 1174.849976, 1159.140015,\n",
       "       1143.599976, 1128.      , 1121.339966, 1102.089966, 1120.      ])"
      ]
     },
     "execution_count": 41,
     "metadata": {},
     "output_type": "execute_result"
    }
   ],
   "source": [
    "# Extracting subset of raws from Concat_Data to Apply Training and Testing_Split\n",
    "inputs = Concat_Data[len(Concat_Data) - len(Test_Data)-60:].values\n",
    "inputs"
   ]
  },
  {
   "cell_type": "code",
   "execution_count": 54,
   "metadata": {},
   "outputs": [
    {
     "data": {
      "text/plain": [
       "(185, 1)"
      ]
     },
     "execution_count": 54,
     "metadata": {},
     "output_type": "execute_result"
    }
   ],
   "source": [
    "inputs.shape"
   ]
  },
  {
   "cell_type": "code",
   "execution_count": 43,
   "metadata": {},
   "outputs": [
    {
     "data": {
      "text/plain": [
       "array([[ 955.48999 ],\n",
       "       [ 966.700012],\n",
       "       [ 980.      ],\n",
       "       [ 980.      ],\n",
       "       [ 973.719971],\n",
       "       [ 987.450012],\n",
       "       [ 992.      ],\n",
       "       [ 992.099976],\n",
       "       [ 990.289978],\n",
       "       [ 991.77002 ],\n",
       "       [ 986.      ],\n",
       "       [ 989.440002],\n",
       "       [ 989.52002 ],\n",
       "       [ 970.      ],\n",
       "       [ 968.369995],\n",
       "       [ 980.      ],\n",
       "       [1009.190002],\n",
       "       [1014.      ],\n",
       "       [1015.219971],\n",
       "       [1017.210022],\n",
       "       [1021.76001 ],\n",
       "       [1022.109985],\n",
       "       [1028.98999 ],\n",
       "       [1027.27002 ],\n",
       "       [1030.52002 ],\n",
       "       [1033.98999 ],\n",
       "       [1026.459961],\n",
       "       [1023.419983],\n",
       "       [1022.590027],\n",
       "       [1019.210022],\n",
       "       [1022.52002 ],\n",
       "       [1034.01001 ],\n",
       "       [1020.26001 ],\n",
       "       [1023.309998],\n",
       "       [1035.      ],\n",
       "       [1035.869995],\n",
       "       [1040.      ],\n",
       "       [1055.089966],\n",
       "       [1042.680054],\n",
       "       [1022.369995],\n",
       "       [1015.799988],\n",
       "       [1012.659973],\n",
       "       [ 995.940002],\n",
       "       [1001.5     ],\n",
       "       [1020.429993],\n",
       "       [1037.48999 ],\n",
       "       [1035.5     ],\n",
       "       [1039.630005],\n",
       "       [1046.119995],\n",
       "       [1045.      ],\n",
       "       [1054.609985],\n",
       "       [1066.079956],\n",
       "       [1075.199951],\n",
       "       [1071.780029],\n",
       "       [1064.949951],\n",
       "       [1061.109985],\n",
       "       [1058.069946],\n",
       "       [1057.390015],\n",
       "       [1051.599976],\n",
       "       [1046.719971],\n",
       "       [1048.339966],\n",
       "       [1064.310059],\n",
       "       [1088.      ],\n",
       "       [1094.      ],\n",
       "       [1102.22998 ],\n",
       "       [1109.400024],\n",
       "       [1097.099976],\n",
       "       [1106.300049],\n",
       "       [1102.410034],\n",
       "       [1132.51001 ],\n",
       "       [1126.219971],\n",
       "       [1131.410034],\n",
       "       [1131.829956],\n",
       "       [1137.48999 ],\n",
       "       [1159.849976],\n",
       "       [1177.329956],\n",
       "       [1172.530029],\n",
       "       [1175.079956],\n",
       "       [1176.47998 ],\n",
       "       [1167.829956],\n",
       "       [1170.569946],\n",
       "       [1162.609985],\n",
       "       [1122.      ],\n",
       "       [1090.599976],\n",
       "       [1027.180054],\n",
       "       [1081.540039],\n",
       "       [1055.410034],\n",
       "       [1017.25    ],\n",
       "       [1048.      ],\n",
       "       [1045.      ],\n",
       "       [1048.949951],\n",
       "       [1079.069946],\n",
       "       [1088.410034],\n",
       "       [1090.569946],\n",
       "       [1106.469971],\n",
       "       [1116.189941],\n",
       "       [1112.640015],\n",
       "       [1127.800049],\n",
       "       [1141.23999 ],\n",
       "       [1123.030029],\n",
       "       [1107.869995],\n",
       "       [1053.079956],\n",
       "       [1075.140015],\n",
       "       [1099.219971],\n",
       "       [1089.189941],\n",
       "       [1115.319946],\n",
       "       [1136.      ],\n",
       "       [1163.849976],\n",
       "       [1170.      ],\n",
       "       [1145.209961],\n",
       "       [1149.959961],\n",
       "       [1154.140015],\n",
       "       [1120.01001 ],\n",
       "       [1099.      ],\n",
       "       [1092.73999 ],\n",
       "       [1081.880005],\n",
       "       [1047.030029],\n",
       "       [1046.      ],\n",
       "       [1063.      ],\n",
       "       [ 998.      ],\n",
       "       [1011.630005],\n",
       "       [1022.820007],\n",
       "       [1013.909973],\n",
       "       [ 993.409973],\n",
       "       [1041.329956],\n",
       "       [1020.      ],\n",
       "       [1016.799988],\n",
       "       [1026.439941],\n",
       "       [1027.98999 ],\n",
       "       [1025.040039],\n",
       "       [1040.880005],\n",
       "       [1037.      ],\n",
       "       [1051.369995],\n",
       "       [1077.430054],\n",
       "       [1069.400024],\n",
       "       [1082.      ],\n",
       "       [1077.859985],\n",
       "       [1052.      ],\n",
       "       [1025.52002 ],\n",
       "       [1029.51001 ],\n",
       "       [1046.      ],\n",
       "       [1030.01001 ],\n",
       "       [1013.659973],\n",
       "       [1028.099976],\n",
       "       [1019.      ],\n",
       "       [1016.900024],\n",
       "       [1049.22998 ],\n",
       "       [1058.540039],\n",
       "       [1058.099976],\n",
       "       [1086.030029],\n",
       "       [1093.599976],\n",
       "       [1100.      ],\n",
       "       [1090.      ],\n",
       "       [1077.310059],\n",
       "       [1079.890015],\n",
       "       [1061.859985],\n",
       "       [1074.060059],\n",
       "       [1083.560059],\n",
       "       [1065.130005],\n",
       "       [1079.      ],\n",
       "       [1079.02002 ],\n",
       "       [1064.890015],\n",
       "       [1063.030029],\n",
       "       [1067.560059],\n",
       "       [1099.349976],\n",
       "       [1122.329956],\n",
       "       [1140.98999 ],\n",
       "       [1142.170044],\n",
       "       [1131.319946],\n",
       "       [1118.180054],\n",
       "       [1118.599976],\n",
       "       [1131.069946],\n",
       "       [1141.119995],\n",
       "       [1143.849976],\n",
       "       [1148.859985],\n",
       "       [1143.650024],\n",
       "       [1158.5     ],\n",
       "       [1175.310059],\n",
       "       [1174.849976],\n",
       "       [1159.140015],\n",
       "       [1143.599976],\n",
       "       [1128.      ],\n",
       "       [1121.339966],\n",
       "       [1102.089966],\n",
       "       [1120.      ]])"
      ]
     },
     "execution_count": 43,
     "metadata": {},
     "output_type": "execute_result"
    }
   ],
   "source": [
    "# Transforming data in two dimensional Array with one column\n",
    "inputs = inputs.reshape(-1,1)\n",
    "inputs"
   ]
  },
  {
   "cell_type": "code",
   "execution_count": 44,
   "metadata": {},
   "outputs": [
    {
     "data": {
      "text/plain": [
       "(185, 1)"
      ]
     },
     "execution_count": 44,
     "metadata": {},
     "output_type": "execute_result"
    }
   ],
   "source": [
    "# Transforming MinMaxScalar\n",
    "inputs = Scalar.transform(inputs)\n",
    "inputs.shape"
   ]
  },
  {
   "cell_type": "code",
   "execution_count": 45,
   "metadata": {},
   "outputs": [],
   "source": [
    "x_test = []\n",
    "for i in range(60,185):\n",
    "    x_test.append(inputs[i-60:i,0])"
   ]
  },
  {
   "cell_type": "code",
   "execution_count": 46,
   "metadata": {},
   "outputs": [
    {
     "data": {
      "text/plain": [
       "(125, 60)"
      ]
     },
     "execution_count": 46,
     "metadata": {},
     "output_type": "execute_result"
    }
   ],
   "source": [
    "x_test = np.array(x_test)\n",
    "x_test.shape"
   ]
  },
  {
   "cell_type": "code",
   "execution_count": 47,
   "metadata": {},
   "outputs": [
    {
     "data": {
      "text/plain": [
       "(125, 60, 1)"
      ]
     },
     "execution_count": 47,
     "metadata": {},
     "output_type": "execute_result"
    }
   ],
   "source": [
    "x_test = np.reshape(x_test, (x_test.shape[0],x_test.shape[1],1))\n",
    "x_test.shape"
   ]
  },
  {
   "cell_type": "code",
   "execution_count": 48,
   "metadata": {},
   "outputs": [
    {
     "name": "stdout",
     "output_type": "stream",
     "text": [
      "4/4 [==============================] - 1s 20ms/step\n"
     ]
    }
   ],
   "source": [
    "predicted_price = regressor.predict(x_test)"
   ]
  },
  {
   "cell_type": "code",
   "execution_count": 49,
   "metadata": {},
   "outputs": [
    {
     "data": {
      "text/plain": [
       "array([[1.0029402 ],\n",
       "       [1.0002092 ],\n",
       "       [0.9975532 ],\n",
       "       [0.99668217],\n",
       "       [0.99859464],\n",
       "       [1.0035353 ],\n",
       "       [1.0111212 ],\n",
       "       [1.019893  ],\n",
       "       [1.0287656 ],\n",
       "       [1.0367507 ],\n",
       "       [1.0443642 ],\n",
       "       [1.0516806 ],\n",
       "       [1.0587145 ],\n",
       "       [1.0652999 ],\n",
       "       [1.0714031 ],\n",
       "       [1.0777442 ],\n",
       "       [1.0852246 ],\n",
       "       [1.0937424 ],\n",
       "       [1.1027555 ],\n",
       "       [1.111575  ],\n",
       "       [1.1192431 ],\n",
       "       [1.1252893 ],\n",
       "       [1.129336  ],\n",
       "       [1.1299587 ],\n",
       "       [1.1257552 ],\n",
       "       [1.1147076 ],\n",
       "       [1.099085  ],\n",
       "       [1.0809661 ],\n",
       "       [1.0611737 ],\n",
       "       [1.0419377 ],\n",
       "       [1.0250776 ],\n",
       "       [1.0118629 ],\n",
       "       [1.0038369 ],\n",
       "       [1.0016631 ],\n",
       "       [1.0047623 ],\n",
       "       [1.0122137 ],\n",
       "       [1.0228137 ],\n",
       "       [1.0348196 ],\n",
       "       [1.0471194 ],\n",
       "       [1.0592204 ],\n",
       "       [1.0698779 ],\n",
       "       [1.0776503 ],\n",
       "       [1.0799592 ],\n",
       "       [1.0769455 ],\n",
       "       [1.0708553 ],\n",
       "       [1.0635574 ],\n",
       "       [1.0574307 ],\n",
       "       [1.0546035 ],\n",
       "       [1.05679   ],\n",
       "       [1.0641694 ],\n",
       "       [1.0745256 ],\n",
       "       [1.085626  ],\n",
       "       [1.095906  ],\n",
       "       [1.1031724 ],\n",
       "       [1.1057402 ],\n",
       "       [1.1032898 ],\n",
       "       [1.0963794 ],\n",
       "       [1.0851682 ],\n",
       "       [1.0707283 ],\n",
       "       [1.055326  ],\n",
       "       [1.0387177 ],\n",
       "       [1.0216132 ],\n",
       "       [1.0054858 ],\n",
       "       [0.9913047 ],\n",
       "       [0.9789405 ],\n",
       "       [0.96993876],\n",
       "       [0.9643785 ],\n",
       "       [0.961592  ],\n",
       "       [0.9610389 ],\n",
       "       [0.9621245 ],\n",
       "       [0.9640795 ],\n",
       "       [0.9668123 ],\n",
       "       [0.96998644],\n",
       "       [0.973721  ],\n",
       "       [0.978872  ],\n",
       "       [0.9852987 ],\n",
       "       [0.9928099 ],\n",
       "       [1.0006742 ],\n",
       "       [1.0071163 ],\n",
       "       [1.01007   ],\n",
       "       [1.0089948 ],\n",
       "       [1.0050907 ],\n",
       "       [0.9992782 ],\n",
       "       [0.99194324],\n",
       "       [0.98419744],\n",
       "       [0.97672766],\n",
       "       [0.9699568 ],\n",
       "       [0.9653633 ],\n",
       "       [0.9640605 ],\n",
       "       [0.9661151 ],\n",
       "       [0.9718313 ],\n",
       "       [0.98088413],\n",
       "       [0.9923849 ],\n",
       "       [1.0045863 ],\n",
       "       [1.0154146 ],\n",
       "       [1.0236784 ],\n",
       "       [1.0283635 ],\n",
       "       [1.029869  ],\n",
       "       [1.029435  ],\n",
       "       [1.0275354 ],\n",
       "       [1.0251504 ],\n",
       "       [1.0230305 ],\n",
       "       [1.0210783 ],\n",
       "       [1.019083  ],\n",
       "       [1.0171528 ],\n",
       "       [1.0166248 ],\n",
       "       [1.01906   ],\n",
       "       [1.025506  ],\n",
       "       [1.0356158 ],\n",
       "       [1.0476146 ],\n",
       "       [1.0591118 ],\n",
       "       [1.06846   ],\n",
       "       [1.0754188 ],\n",
       "       [1.0806273 ],\n",
       "       [1.084801  ],\n",
       "       [1.0885797 ],\n",
       "       [1.0920557 ],\n",
       "       [1.0957046 ],\n",
       "       [1.1003019 ],\n",
       "       [1.1059867 ],\n",
       "       [1.1118126 ],\n",
       "       [1.1163393 ],\n",
       "       [1.1182598 ],\n",
       "       [1.1170654 ],\n",
       "       [1.1124897 ]], dtype=float32)"
      ]
     },
     "execution_count": 49,
     "metadata": {},
     "output_type": "execute_result"
    }
   ],
   "source": [
    "predicted_price"
   ]
  },
  {
   "cell_type": "code",
   "execution_count": 50,
   "metadata": {},
   "outputs": [
    {
     "data": {
      "text/plain": [
       "array([[1077.332 ],\n",
       "       [1075.3517],\n",
       "       [1073.4257],\n",
       "       [1072.7941],\n",
       "       [1074.1809],\n",
       "       [1077.7635],\n",
       "       [1083.2644],\n",
       "       [1089.6254],\n",
       "       [1096.0592],\n",
       "       [1101.8496],\n",
       "       [1107.3706],\n",
       "       [1112.676 ],\n",
       "       [1117.7766],\n",
       "       [1122.552 ],\n",
       "       [1126.9778],\n",
       "       [1131.5759],\n",
       "       [1137.0004],\n",
       "       [1143.177 ],\n",
       "       [1149.7129],\n",
       "       [1156.1083],\n",
       "       [1161.6687],\n",
       "       [1166.0531],\n",
       "       [1168.9875],\n",
       "       [1169.4391],\n",
       "       [1166.391 ],\n",
       "       [1158.3798],\n",
       "       [1147.0511],\n",
       "       [1133.9124],\n",
       "       [1119.5598],\n",
       "       [1105.611 ],\n",
       "       [1093.3849],\n",
       "       [1083.8024],\n",
       "       [1077.9823],\n",
       "       [1076.406 ],\n",
       "       [1078.6533],\n",
       "       [1084.0568],\n",
       "       [1091.7433],\n",
       "       [1100.4493],\n",
       "       [1109.3684],\n",
       "       [1118.1434],\n",
       "       [1125.8717],\n",
       "       [1131.5078],\n",
       "       [1133.1821],\n",
       "       [1130.9968],\n",
       "       [1126.5804],\n",
       "       [1121.2885],\n",
       "       [1116.8457],\n",
       "       [1114.7955],\n",
       "       [1116.3811],\n",
       "       [1121.7322],\n",
       "       [1129.242 ],\n",
       "       [1137.2914],\n",
       "       [1144.746 ],\n",
       "       [1150.0151],\n",
       "       [1151.8771],\n",
       "       [1150.1002],\n",
       "       [1145.0892],\n",
       "       [1136.9595],\n",
       "       [1126.4884],\n",
       "       [1115.3195],\n",
       "       [1103.276 ],\n",
       "       [1090.8728],\n",
       "       [1079.178 ],\n",
       "       [1068.8945],\n",
       "       [1059.9287],\n",
       "       [1053.4011],\n",
       "       [1049.3691],\n",
       "       [1047.3485],\n",
       "       [1046.9474],\n",
       "       [1047.7346],\n",
       "       [1049.1523],\n",
       "       [1051.134 ],\n",
       "       [1053.4358],\n",
       "       [1056.1439],\n",
       "       [1059.879 ],\n",
       "       [1064.5393],\n",
       "       [1069.9861],\n",
       "       [1075.689 ],\n",
       "       [1080.3604],\n",
       "       [1082.5022],\n",
       "       [1081.7225],\n",
       "       [1078.8915],\n",
       "       [1074.6765],\n",
       "       [1069.3577],\n",
       "       [1063.7407],\n",
       "       [1058.3241],\n",
       "       [1053.4142],\n",
       "       [1050.0833],\n",
       "       [1049.1385],\n",
       "       [1050.6284],\n",
       "       [1054.7736],\n",
       "       [1061.3381],\n",
       "       [1069.678 ],\n",
       "       [1078.5258],\n",
       "       [1086.3778],\n",
       "       [1092.3704],\n",
       "       [1095.7677],\n",
       "       [1096.8594],\n",
       "       [1096.5447],\n",
       "       [1095.1672],\n",
       "       [1093.4377],\n",
       "       [1091.9005],\n",
       "       [1090.4849],\n",
       "       [1089.038 ],\n",
       "       [1087.6383],\n",
       "       [1087.2554],\n",
       "       [1089.0212],\n",
       "       [1093.6956],\n",
       "       [1101.0266],\n",
       "       [1109.7275],\n",
       "       [1118.0647],\n",
       "       [1124.8435],\n",
       "       [1129.8896],\n",
       "       [1133.6666],\n",
       "       [1136.6931],\n",
       "       [1139.4332],\n",
       "       [1141.9539],\n",
       "       [1144.5999],\n",
       "       [1147.9336],\n",
       "       [1152.0559],\n",
       "       [1156.2805],\n",
       "       [1159.5631],\n",
       "       [1160.9557],\n",
       "       [1160.0896],\n",
       "       [1156.7715]], dtype=float32)"
      ]
     },
     "execution_count": 50,
     "metadata": {},
     "output_type": "execute_result"
    }
   ],
   "source": [
    "# Reverse the scaling operation, Transforming it back to its original scale\n",
    "predicted_price = Scalar.inverse_transform(predicted_price)\n",
    "predicted_price"
   ]
  },
  {
   "cell_type": "code",
   "execution_count": 52,
   "metadata": {},
   "outputs": [
    {
     "data": {
      "image/png": "[encoded data removed]",
      "text/plain": [
       "<Figure size 640x480 with 1 Axes>"
      ]
     },
     "metadata": {},
     "output_type": "display_data"
    }
   ],
   "source": [
    "plt.plot(Stock_Price,color = 'red', label = 'Real Price')\n",
    "plt.plot(predicted_price, color = 'blue', label = 'Predicted Price')\n",
    "plt.title('Google Stock Price Prediction For 2017')\n",
    "plt.xlabel('Time')\n",
    "plt.ylabel('Google Stock Price')\n",
    "plt.legend()\n",
    "plt.show()"
   ]
  },
  {
   "cell_type": "code",
   "execution_count": null,
   "metadata": {},
   "outputs": [],
   "source": []
  }
 ],
 "metadata": {
  "kernelspec": {
   "display_name": "Python 3",
   "language": "python",
   "name": "python3"
  },
  "language_info": {
   "codemirror_mode": {
    "name": "ipython",
    "version": 3
   },
   "file_extension": ".py",
   "mimetype": "text/x-python",
   "name": "python",
   "nbconvert_exporter": "python",
   "pygments_lexer": "ipython3",
   "version": "3.10.8"
  },
  "orig_nbformat": 4
 },
 "nbformat": 4,
 "nbformat_minor": 2
}
